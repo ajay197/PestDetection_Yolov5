{
  "cells": [
    {
      "cell_type": "code",
      "execution_count": null,
      "metadata": {
        "id": "GLF3KLnsMILR"
      },
      "outputs": [],
      "source": [
        "#!pip3 install torch==1.8.2+cu111 torchvision==0.9.2+cu111 torchaudio==0.8.2 -f https://download.pytorch.org/whl/lts/1.8/torch_lts.html"
      ]
    },
    {
      "cell_type": "code",
      "execution_count": null,
      "metadata": {
        "colab": {
          "base_uri": "https://localhost:8080/"
        },
        "id": "XZdDAfMXMeEe",
        "outputId": "5402a1d7-0b28-48fc-8afd-66b03aff0252"
      },
      "outputs": [
        {
          "output_type": "execute_result",
          "data": {
            "text/plain": [
              "True"
            ]
          },
          "metadata": {},
          "execution_count": 1
        }
      ],
      "source": [
        "import torch\n",
        "torch.cuda.is_available()"
      ]
    },
    {
      "cell_type": "code",
      "execution_count": null,
      "metadata": {
        "colab": {
          "base_uri": "https://localhost:8080/"
        },
        "id": "3mjBO64Flmiq",
        "outputId": "1d2e8615-eb71-47da-c358-e5225eb49d6d"
      },
      "outputs": [
        {
          "output_type": "stream",
          "name": "stdout",
          "text": [
            "Cloning into 'yolov5'...\n",
            "remote: Enumerating objects: 11142, done.\u001b[K\n",
            "remote: Total 11142 (delta 0), reused 0 (delta 0), pack-reused 11142\u001b[K\n",
            "Receiving objects: 100% (11142/11142), 11.14 MiB | 23.56 MiB/s, done.\n",
            "Resolving deltas: 100% (7703/7703), done.\n",
            "/content/yolov5\n",
            "\u001b[K     |████████████████████████████████| 596 kB 8.2 MB/s \n",
            "\u001b[K     |████████████████████████████████| 1.1 MB 12.3 MB/s \n",
            "\u001b[K     |████████████████████████████████| 138 kB 74.0 MB/s \n",
            "\u001b[K     |████████████████████████████████| 145 kB 67.9 MB/s \n",
            "\u001b[K     |████████████████████████████████| 178 kB 75.0 MB/s \n",
            "\u001b[K     |████████████████████████████████| 67 kB 7.5 MB/s \n",
            "\u001b[K     |████████████████████████████████| 63 kB 1.9 MB/s \n",
            "\u001b[?25h  Building wheel for wget (setup.py) ... \u001b[?25l\u001b[?25hdone\n",
            "\u001b[31mERROR: pip's dependency resolver does not currently take into account all the packages that are installed. This behaviour is the source of the following dependency conflicts.\n",
            "google-colab 1.0.0 requires requests~=2.23.0, but you have requests 2.27.1 which is incompatible.\n",
            "datascience 0.10.6 requires folium==0.2.1, but you have folium 0.8.3 which is incompatible.\n",
            "albumentations 0.1.12 requires imgaug<0.2.7,>=0.2.5, but you have imgaug 0.2.9 which is incompatible.\u001b[0m\n",
            "Setup complete. Using torch 1.10.0+cu111 (Tesla T4)\n"
          ]
        }
      ],
      "source": [
        "#clone YOLOv5 and \n",
        "!git clone https://github.com/ultralytics/yolov5  # clone repo\n",
        "%cd yolov5\n",
        "%pip install -qr requirements.txt # install dependencies\n",
        "%pip install -q roboflow\n",
        "\n",
        "import torch\n",
        "import os\n",
        "from IPython.display import Image, clear_output  # to display images\n",
        "\n",
        "print(f\"Setup complete. Using torch {torch.__version__} ({torch.cuda.get_device_properties(0).name if torch.cuda.is_available() else 'CPU'})\")"
      ]
    },
    {
      "cell_type": "code",
      "execution_count": null,
      "metadata": {
        "colab": {
          "base_uri": "https://localhost:8080/"
        },
        "id": "-dv7mF7vNFL9",
        "outputId": "57d5567c-d7d1-4e87-d544-59d43d66ce81"
      },
      "outputs": [
        {
          "output_type": "stream",
          "name": "stderr",
          "text": [
            "YOLOv5 🚀 v6.1-11-g63ddb6f torch 1.10.0+cu111 CUDA:0 (Tesla T4, 15110MiB)\n"
          ]
        },
        {
          "output_type": "stream",
          "name": "stdout",
          "text": [
            "Setup complete ✅ (2 CPUs, 12.7 GB RAM, 42.1/78.2 GB disk)\n"
          ]
        }
      ],
      "source": [
        "import torch\n",
        "from yolov5 import utils\n",
        "display = utils.notebook_init()  # checks"
      ]
    },
    {
      "cell_type": "code",
      "execution_count": null,
      "metadata": {
        "id": "yylvAAyvlr38"
      },
      "outputs": [],
      "source": [
        "!unzip -q ../pestDetector.zip -d ../"
      ]
    },
    {
      "cell_type": "code",
      "source": [
        "#!pwd\n",
        "#!rm -rf /content/custom_data"
      ],
      "metadata": {
        "id": "PcqkrVLL2Jrq"
      },
      "execution_count": null,
      "outputs": []
    },
    {
      "cell_type": "code",
      "execution_count": null,
      "metadata": {
        "colab": {
          "base_uri": "https://localhost:8080/"
        },
        "id": "kZ8Hv5n_qU1k",
        "outputId": "9eaccd68-abfd-4f3f-9e74-8114d7eab8a1"
      },
      "outputs": [
        {
          "output_type": "stream",
          "name": "stdout",
          "text": [
            "Downloading https://ultralytics.com/assets/Arial.ttf to /root/.config/Ultralytics/Arial.ttf...\n",
            "\u001b[34m\u001b[1mtrain: \u001b[0mweights=yolov5s.pt, cfg=, data=coco128.yaml, hyp=data/hyps/hyp.scratch-low.yaml, epochs=50, batch_size=16, imgsz=640, rect=False, resume=False, nosave=False, noval=False, noautoanchor=False, evolve=None, bucket=, cache=ram, image_weights=False, device=, multi_scale=False, single_cls=False, optimizer=SGD, sync_bn=False, workers=8, project=runs/train, name=exp, exist_ok=False, quad=False, cos_lr=False, label_smoothing=0.0, patience=100, freeze=[0], save_period=-1, local_rank=-1, entity=None, upload_dataset=False, bbox_interval=-1, artifact_alias=latest\n",
            "\u001b[34m\u001b[1mgithub: \u001b[0mup to date with https://github.com/ultralytics/yolov5 ✅\n",
            "YOLOv5 🚀 v6.1-11-g63ddb6f torch 1.10.0+cu111 CUDA:0 (Tesla T4, 15110MiB)\n",
            "\n",
            "\u001b[34m\u001b[1mhyperparameters: \u001b[0mlr0=0.01, lrf=0.01, momentum=0.937, weight_decay=0.0005, warmup_epochs=3.0, warmup_momentum=0.8, warmup_bias_lr=0.1, box=0.05, cls=0.5, cls_pw=1.0, obj=1.0, obj_pw=1.0, iou_t=0.2, anchor_t=4.0, fl_gamma=0.0, hsv_h=0.015, hsv_s=0.7, hsv_v=0.4, degrees=0.0, translate=0.1, scale=0.5, shear=0.0, perspective=0.0, flipud=0.0, fliplr=0.5, mosaic=1.0, mixup=0.0, copy_paste=0.0\n",
            "\u001b[34m\u001b[1mWeights & Biases: \u001b[0mrun 'pip install wandb' to automatically track and visualize YOLOv5 🚀 runs (RECOMMENDED)\n",
            "\u001b[34m\u001b[1mTensorBoard: \u001b[0mStart with 'tensorboard --logdir runs/train', view at http://localhost:6006/\n",
            "Downloading https://github.com/ultralytics/yolov5/releases/download/v6.1/yolov5s.pt to yolov5s.pt...\n",
            "100% 14.1M/14.1M [00:00<00:00, 45.2MB/s]\n",
            "\n",
            "Overriding model.yaml nc=80 with nc=1\n",
            "\n",
            "                 from  n    params  module                                  arguments                     \n",
            "  0                -1  1      3520  models.common.Conv                      [3, 32, 6, 2, 2]              \n",
            "  1                -1  1     18560  models.common.Conv                      [32, 64, 3, 2]                \n",
            "  2                -1  1     18816  models.common.C3                        [64, 64, 1]                   \n",
            "  3                -1  1     73984  models.common.Conv                      [64, 128, 3, 2]               \n",
            "  4                -1  2    115712  models.common.C3                        [128, 128, 2]                 \n",
            "  5                -1  1    295424  models.common.Conv                      [128, 256, 3, 2]              \n",
            "  6                -1  3    625152  models.common.C3                        [256, 256, 3]                 \n",
            "  7                -1  1   1180672  models.common.Conv                      [256, 512, 3, 2]              \n",
            "  8                -1  1   1182720  models.common.C3                        [512, 512, 1]                 \n",
            "  9                -1  1    656896  models.common.SPPF                      [512, 512, 5]                 \n",
            " 10                -1  1    131584  models.common.Conv                      [512, 256, 1, 1]              \n",
            " 11                -1  1         0  torch.nn.modules.upsampling.Upsample    [None, 2, 'nearest']          \n",
            " 12           [-1, 6]  1         0  models.common.Concat                    [1]                           \n",
            " 13                -1  1    361984  models.common.C3                        [512, 256, 1, False]          \n",
            " 14                -1  1     33024  models.common.Conv                      [256, 128, 1, 1]              \n",
            " 15                -1  1         0  torch.nn.modules.upsampling.Upsample    [None, 2, 'nearest']          \n",
            " 16           [-1, 4]  1         0  models.common.Concat                    [1]                           \n",
            " 17                -1  1     90880  models.common.C3                        [256, 128, 1, False]          \n",
            " 18                -1  1    147712  models.common.Conv                      [128, 128, 3, 2]              \n",
            " 19          [-1, 14]  1         0  models.common.Concat                    [1]                           \n",
            " 20                -1  1    296448  models.common.C3                        [256, 256, 1, False]          \n",
            " 21                -1  1    590336  models.common.Conv                      [256, 256, 3, 2]              \n",
            " 22          [-1, 10]  1         0  models.common.Concat                    [1]                           \n",
            " 23                -1  1   1182720  models.common.C3                        [512, 512, 1, False]          \n",
            " 24      [17, 20, 23]  1     16182  models.yolo.Detect                      [1, [[10, 13, 16, 30, 33, 23], [30, 61, 62, 45, 59, 119], [116, 90, 156, 198, 373, 326]], [128, 256, 512]]\n",
            "Model Summary: 270 layers, 7022326 parameters, 7022326 gradients, 15.8 GFLOPs\n",
            "\n",
            "Transferred 343/349 items from yolov5s.pt\n",
            "Scaled weight_decay = 0.0005\n",
            "\u001b[34m\u001b[1moptimizer:\u001b[0m SGD with parameter groups 57 weight (no decay), 60 weight, 60 bias\n",
            "\u001b[34m\u001b[1malbumentations: \u001b[0mversion 1.0.3 required by YOLOv5, but version 0.1.12 is currently installed\n",
            "\u001b[34m\u001b[1mtrain: \u001b[0mScanning '/content/pestDetector/labels' images and labels...61 found, 0 missing, 0 empty, 1 corrupt: 100% 61/61 [00:00<00:00, 791.92it/s]\n",
            "\u001b[34m\u001b[1mtrain: \u001b[0mWARNING: /content/pestDetector/images/ezgif-frame-017.jpg: ignoring corrupt image/label: negative label values [         -1]\n",
            "\u001b[34m\u001b[1mtrain: \u001b[0mNew cache created: /content/pestDetector/labels.cache\n",
            "\u001b[34m\u001b[1mtrain: \u001b[0mCaching images (0.0GB ram): 100% 60/60 [00:00<00:00, 66.90it/s]\n",
            "\u001b[34m\u001b[1mval: \u001b[0mScanning '/content/pestDetector/labels.cache' images and labels... 61 found, 0 missing, 0 empty, 1 corrupt: 100% 61/61 [00:00<?, ?it/s]\n",
            "\u001b[34m\u001b[1mtrain: \u001b[0mWARNING: /content/pestDetector/images/ezgif-frame-017.jpg: ignoring corrupt image/label: negative label values [         -1]\n",
            "\u001b[34m\u001b[1mval: \u001b[0mCaching images (0.0GB ram): 100% 60/60 [00:01<00:00, 44.70it/s]\n",
            "Plotting labels to runs/train/exp/labels.jpg... \n",
            "\n",
            "\u001b[34m\u001b[1mAutoAnchor: \u001b[0m5.44 anchors/target, 1.000 Best Possible Recall (BPR). Current anchors are a good fit to dataset ✅\n",
            "Image sizes 640 train, 640 val\n",
            "Using 2 dataloader workers\n",
            "Logging results to \u001b[1mruns/train/exp\u001b[0m\n",
            "Starting training for 50 epochs...\n",
            "\n",
            "     Epoch   gpu_mem       box       obj       cls    labels  img_size\n",
            "      0/49     3.44G     0.124   0.03671         0        51       640: 100% 4/4 [00:03<00:00,  1.18it/s]\n",
            "               Class     Images     Labels          P          R     mAP@.5 mAP@.5:.95: 100% 2/2 [00:01<00:00,  1.99it/s]\n",
            "                 all         60         96     0.0101      0.208    0.00488   0.000857\n",
            "\n",
            "     Epoch   gpu_mem       box       obj       cls    labels  img_size\n",
            "      1/49     3.64G     0.116   0.03487         0        34       640: 100% 4/4 [00:00<00:00,  4.30it/s]\n",
            "               Class     Images     Labels          P          R     mAP@.5 mAP@.5:.95: 100% 2/2 [00:00<00:00,  2.32it/s]\n",
            "                 all         60         96      0.229     0.0729     0.0387      0.011\n",
            "\n",
            "     Epoch   gpu_mem       box       obj       cls    labels  img_size\n",
            "      2/49     3.64G    0.1064   0.03602         0        35       640: 100% 4/4 [00:00<00:00,  4.11it/s]\n",
            "               Class     Images     Labels          P          R     mAP@.5 mAP@.5:.95: 100% 2/2 [00:00<00:00,  2.71it/s]\n",
            "                 all         60         96      0.392      0.167      0.139     0.0507\n",
            "\n",
            "     Epoch   gpu_mem       box       obj       cls    labels  img_size\n",
            "      3/49     3.64G   0.09814   0.03629         0        29       640: 100% 4/4 [00:00<00:00,  4.30it/s]\n",
            "               Class     Images     Labels          P          R     mAP@.5 mAP@.5:.95: 100% 2/2 [00:00<00:00,  3.20it/s]\n",
            "                 all         60         96      0.559       0.24      0.249     0.0757\n",
            "\n",
            "     Epoch   gpu_mem       box       obj       cls    labels  img_size\n",
            "      4/49     3.64G    0.0941   0.03827         0        45       640: 100% 4/4 [00:00<00:00,  4.71it/s]\n",
            "               Class     Images     Labels          P          R     mAP@.5 mAP@.5:.95: 100% 2/2 [00:00<00:00,  3.26it/s]\n",
            "                 all         60         96       0.57      0.292      0.342      0.121\n",
            "\n",
            "     Epoch   gpu_mem       box       obj       cls    labels  img_size\n",
            "      5/49     3.64G   0.08559   0.03908         0        36       640: 100% 4/4 [00:00<00:00,  4.60it/s]\n",
            "               Class     Images     Labels          P          R     mAP@.5 mAP@.5:.95: 100% 2/2 [00:00<00:00,  3.59it/s]\n",
            "                 all         60         96      0.466      0.654      0.458      0.182\n",
            "\n",
            "     Epoch   gpu_mem       box       obj       cls    labels  img_size\n",
            "      6/49     3.64G   0.08027   0.03802         0        39       640: 100% 4/4 [00:00<00:00,  4.47it/s]\n",
            "               Class     Images     Labels          P          R     mAP@.5 mAP@.5:.95: 100% 2/2 [00:00<00:00,  4.09it/s]\n",
            "                 all         60         96      0.358      0.438      0.364     0.0879\n",
            "\n",
            "     Epoch   gpu_mem       box       obj       cls    labels  img_size\n",
            "      7/49     3.64G   0.07873   0.03226         0        29       640: 100% 4/4 [00:00<00:00,  4.67it/s]\n",
            "               Class     Images     Labels          P          R     mAP@.5 mAP@.5:.95: 100% 2/2 [00:00<00:00,  4.21it/s]\n",
            "                 all         60         96      0.154      0.719      0.208     0.0829\n",
            "\n",
            "     Epoch   gpu_mem       box       obj       cls    labels  img_size\n",
            "      8/49     3.64G   0.07939   0.03219         0        41       640: 100% 4/4 [00:00<00:00,  4.59it/s]\n",
            "               Class     Images     Labels          P          R     mAP@.5 mAP@.5:.95: 100% 2/2 [00:00<00:00,  4.40it/s]\n",
            "                 all         60         96      0.429      0.604      0.457      0.137\n",
            "\n",
            "     Epoch   gpu_mem       box       obj       cls    labels  img_size\n",
            "      9/49     3.64G   0.07961   0.03108         0        40       640: 100% 4/4 [00:00<00:00,  4.56it/s]\n",
            "               Class     Images     Labels          P          R     mAP@.5 mAP@.5:.95: 100% 2/2 [00:00<00:00,  4.34it/s]\n",
            "                 all         60         96      0.275      0.635      0.236     0.0779\n",
            "\n",
            "     Epoch   gpu_mem       box       obj       cls    labels  img_size\n",
            "     10/49     3.64G   0.08105   0.02882         0        42       640: 100% 4/4 [00:00<00:00,  4.83it/s]\n",
            "               Class     Images     Labels          P          R     mAP@.5 mAP@.5:.95: 100% 2/2 [00:00<00:00,  4.66it/s]\n",
            "                 all         60         96          1      0.354      0.561      0.244\n",
            "\n",
            "     Epoch   gpu_mem       box       obj       cls    labels  img_size\n",
            "     11/49     3.64G   0.08058   0.02689         0        42       640: 100% 4/4 [00:00<00:00,  4.53it/s]\n",
            "               Class     Images     Labels          P          R     mAP@.5 mAP@.5:.95: 100% 2/2 [00:00<00:00,  4.59it/s]\n",
            "                 all         60         96      0.758      0.625      0.671      0.173\n",
            "\n",
            "     Epoch   gpu_mem       box       obj       cls    labels  img_size\n",
            "     12/49     3.64G   0.08061   0.02651         0        39       640: 100% 4/4 [00:00<00:00,  4.36it/s]\n",
            "               Class     Images     Labels          P          R     mAP@.5 mAP@.5:.95: 100% 2/2 [00:00<00:00,  4.98it/s]\n",
            "                 all         60         96      0.398      0.634      0.425      0.155\n",
            "\n",
            "     Epoch   gpu_mem       box       obj       cls    labels  img_size\n",
            "     13/49     3.64G   0.07259   0.02413         0        38       640: 100% 4/4 [00:00<00:00,  4.97it/s]\n",
            "               Class     Images     Labels          P          R     mAP@.5 mAP@.5:.95: 100% 2/2 [00:00<00:00,  4.46it/s]\n",
            "                 all         60         96       0.89      0.594      0.747      0.231\n",
            "\n",
            "     Epoch   gpu_mem       box       obj       cls    labels  img_size\n",
            "     14/49     3.64G   0.06839   0.02771         0        45       640: 100% 4/4 [00:00<00:00,  4.48it/s]\n",
            "               Class     Images     Labels          P          R     mAP@.5 mAP@.5:.95: 100% 2/2 [00:00<00:00,  5.28it/s]\n",
            "                 all         60         96      0.709       0.51      0.595      0.188\n",
            "\n",
            "     Epoch   gpu_mem       box       obj       cls    labels  img_size\n",
            "     15/49     3.64G   0.08512   0.02294         0        37       640: 100% 4/4 [00:00<00:00,  4.80it/s]\n",
            "               Class     Images     Labels          P          R     mAP@.5 mAP@.5:.95: 100% 2/2 [00:00<00:00,  5.10it/s]\n",
            "                 all         60         96      0.737      0.615      0.704      0.243\n",
            "\n",
            "     Epoch   gpu_mem       box       obj       cls    labels  img_size\n",
            "     16/49     3.64G   0.07667   0.02283         0        32       640: 100% 4/4 [00:00<00:00,  4.72it/s]\n",
            "               Class     Images     Labels          P          R     mAP@.5 mAP@.5:.95: 100% 2/2 [00:00<00:00,  4.80it/s]\n",
            "                 all         60         96      0.593      0.729      0.608       0.12\n",
            "\n",
            "     Epoch   gpu_mem       box       obj       cls    labels  img_size\n",
            "     17/49     3.64G   0.06784   0.02674         0        43       640: 100% 4/4 [00:00<00:00,  4.40it/s]\n",
            "               Class     Images     Labels          P          R     mAP@.5 mAP@.5:.95: 100% 2/2 [00:00<00:00,  5.75it/s]\n",
            "                 all         60         96      0.401      0.488      0.326     0.0638\n",
            "\n",
            "     Epoch   gpu_mem       box       obj       cls    labels  img_size\n",
            "     18/49     3.64G   0.07427   0.02209         0        38       640: 100% 4/4 [00:00<00:00,  5.07it/s]\n",
            "               Class     Images     Labels          P          R     mAP@.5 mAP@.5:.95: 100% 2/2 [00:00<00:00,  4.75it/s]\n",
            "                 all         60         96      0.852      0.781      0.755       0.15\n",
            "\n",
            "     Epoch   gpu_mem       box       obj       cls    labels  img_size\n",
            "     19/49     3.64G   0.06861   0.02282         0        33       640: 100% 4/4 [00:00<00:00,  4.83it/s]\n",
            "               Class     Images     Labels          P          R     mAP@.5 mAP@.5:.95: 100% 2/2 [00:00<00:00,  5.28it/s]\n",
            "                 all         60         96      0.888      0.844      0.893      0.272\n",
            "\n",
            "     Epoch   gpu_mem       box       obj       cls    labels  img_size\n",
            "     20/49     3.64G   0.05965   0.02521         0        36       640: 100% 4/4 [00:00<00:00,  4.57it/s]\n",
            "               Class     Images     Labels          P          R     mAP@.5 mAP@.5:.95: 100% 2/2 [00:00<00:00,  5.73it/s]\n",
            "                 all         60         96      0.707      0.833      0.845      0.277\n",
            "\n",
            "     Epoch   gpu_mem       box       obj       cls    labels  img_size\n",
            "     21/49     3.64G   0.06751   0.02315         0        37       640: 100% 4/4 [00:00<00:00,  4.71it/s]\n",
            "               Class     Images     Labels          P          R     mAP@.5 mAP@.5:.95: 100% 2/2 [00:00<00:00,  6.04it/s]\n",
            "                 all         60         96      0.565      0.759      0.505      0.111\n",
            "\n",
            "     Epoch   gpu_mem       box       obj       cls    labels  img_size\n",
            "     22/49     3.64G   0.07949   0.02036         0        42       640: 100% 4/4 [00:00<00:00,  4.88it/s]\n",
            "               Class     Images     Labels          P          R     mAP@.5 mAP@.5:.95: 100% 2/2 [00:00<00:00,  5.67it/s]\n",
            "                 all         60         96      0.449      0.594      0.431     0.0814\n",
            "\n",
            "     Epoch   gpu_mem       box       obj       cls    labels  img_size\n",
            "     23/49     3.64G   0.08089   0.02067         0        48       640: 100% 4/4 [00:00<00:00,  4.59it/s]\n",
            "               Class     Images     Labels          P          R     mAP@.5 mAP@.5:.95: 100% 2/2 [00:00<00:00,  5.97it/s]\n",
            "                 all         60         96      0.396      0.698       0.49      0.109\n",
            "\n",
            "     Epoch   gpu_mem       box       obj       cls    labels  img_size\n",
            "     24/49     3.64G   0.07534   0.02125         0        30       640: 100% 4/4 [00:00<00:00,  4.55it/s]\n",
            "               Class     Images     Labels          P          R     mAP@.5 mAP@.5:.95: 100% 2/2 [00:00<00:00,  6.08it/s]\n",
            "                 all         60         96      0.646      0.802      0.711       0.17\n",
            "\n",
            "     Epoch   gpu_mem       box       obj       cls    labels  img_size\n",
            "     25/49     3.64G    0.0693    0.0255         0        36       640: 100% 4/4 [00:00<00:00,  4.60it/s]\n",
            "               Class     Images     Labels          P          R     mAP@.5 mAP@.5:.95: 100% 2/2 [00:00<00:00,  6.00it/s]\n",
            "                 all         60         96      0.718      0.635      0.635      0.207\n",
            "\n",
            "     Epoch   gpu_mem       box       obj       cls    labels  img_size\n",
            "     26/49     3.64G   0.06569   0.02744         0        52       640: 100% 4/4 [00:00<00:00,  4.75it/s]\n",
            "               Class     Images     Labels          P          R     mAP@.5 mAP@.5:.95: 100% 2/2 [00:00<00:00,  6.00it/s]\n",
            "                 all         60         96      0.615      0.614      0.606      0.118\n",
            "\n",
            "     Epoch   gpu_mem       box       obj       cls    labels  img_size\n",
            "     27/49     3.64G   0.06819    0.0199         0        42       640: 100% 4/4 [00:00<00:00,  4.55it/s]\n",
            "               Class     Images     Labels          P          R     mAP@.5 mAP@.5:.95: 100% 2/2 [00:00<00:00,  6.27it/s]\n",
            "                 all         60         96      0.774      0.646      0.746      0.173\n",
            "\n",
            "     Epoch   gpu_mem       box       obj       cls    labels  img_size\n",
            "     28/49     3.64G   0.06322   0.02359         0        40       640: 100% 4/4 [00:00<00:00,  4.51it/s]\n",
            "               Class     Images     Labels          P          R     mAP@.5 mAP@.5:.95: 100% 2/2 [00:00<00:00,  6.10it/s]\n",
            "                 all         60         96      0.787      0.698      0.743      0.312\n",
            "\n",
            "     Epoch   gpu_mem       box       obj       cls    labels  img_size\n",
            "     29/49     3.64G   0.06813   0.02032         0        45       640: 100% 4/4 [00:00<00:00,  4.58it/s]\n",
            "               Class     Images     Labels          P          R     mAP@.5 mAP@.5:.95: 100% 2/2 [00:00<00:00,  6.45it/s]\n",
            "                 all         60         96       0.93      0.687      0.842      0.181\n",
            "\n",
            "     Epoch   gpu_mem       box       obj       cls    labels  img_size\n",
            "     30/49     3.64G   0.05524   0.01925         0        40       640: 100% 4/4 [00:00<00:00,  4.52it/s]\n",
            "               Class     Images     Labels          P          R     mAP@.5 mAP@.5:.95: 100% 2/2 [00:00<00:00,  5.84it/s]\n",
            "                 all         60         96          1      0.635      0.824      0.428\n",
            "\n",
            "     Epoch   gpu_mem       box       obj       cls    labels  img_size\n",
            "     31/49     3.64G   0.05529    0.0201         0        46       640: 100% 4/4 [00:00<00:00,  4.64it/s]\n",
            "               Class     Images     Labels          P          R     mAP@.5 mAP@.5:.95: 100% 2/2 [00:00<00:00,  6.49it/s]\n",
            "                 all         60         96      0.634      0.833      0.601      0.157\n",
            "\n",
            "     Epoch   gpu_mem       box       obj       cls    labels  img_size\n",
            "     32/49     3.64G   0.05376   0.02098         0        33       640: 100% 4/4 [00:00<00:00,  4.51it/s]\n",
            "               Class     Images     Labels          P          R     mAP@.5 mAP@.5:.95: 100% 2/2 [00:00<00:00,  6.36it/s]\n",
            "                 all         60         96      0.708       0.76       0.67      0.246\n",
            "\n",
            "     Epoch   gpu_mem       box       obj       cls    labels  img_size\n",
            "     33/49     3.64G   0.04838   0.02172         0        37       640: 100% 4/4 [00:00<00:00,  4.74it/s]\n",
            "               Class     Images     Labels          P          R     mAP@.5 mAP@.5:.95: 100% 2/2 [00:00<00:00,  6.08it/s]\n",
            "                 all         60         96      0.862      0.781      0.893      0.382\n",
            "\n",
            "     Epoch   gpu_mem       box       obj       cls    labels  img_size\n",
            "     34/49     3.64G   0.04485   0.02204         0        32       640: 100% 4/4 [00:00<00:00,  4.54it/s]\n",
            "               Class     Images     Labels          P          R     mAP@.5 mAP@.5:.95: 100% 2/2 [00:00<00:00,  6.53it/s]\n",
            "                 all         60         96      0.872      0.781      0.866      0.361\n",
            "\n",
            "     Epoch   gpu_mem       box       obj       cls    labels  img_size\n",
            "     35/49     3.64G   0.04653   0.02041         0        36       640: 100% 4/4 [00:00<00:00,  4.82it/s]\n",
            "               Class     Images     Labels          P          R     mAP@.5 mAP@.5:.95: 100% 2/2 [00:00<00:00,  5.64it/s]\n",
            "                 all         60         96      0.776      0.758      0.835      0.335\n",
            "\n",
            "     Epoch   gpu_mem       box       obj       cls    labels  img_size\n",
            "     36/49     3.64G   0.04611   0.01808         0        36       640: 100% 4/4 [00:00<00:00,  4.98it/s]\n",
            "               Class     Images     Labels          P          R     mAP@.5 mAP@.5:.95: 100% 2/2 [00:00<00:00,  5.12it/s]\n",
            "                 all         60         96      0.978      0.927      0.979      0.521\n",
            "\n",
            "     Epoch   gpu_mem       box       obj       cls    labels  img_size\n",
            "     37/49     3.64G   0.04232   0.01957         0        34       640: 100% 4/4 [00:00<00:00,  4.84it/s]\n",
            "               Class     Images     Labels          P          R     mAP@.5 mAP@.5:.95: 100% 2/2 [00:00<00:00,  5.96it/s]\n",
            "                 all         60         96      0.707       0.76      0.729      0.408\n",
            "\n",
            "     Epoch   gpu_mem       box       obj       cls    labels  img_size\n",
            "     38/49     3.64G   0.04713   0.01668         0        47       640: 100% 4/4 [00:00<00:00,  4.70it/s]\n",
            "               Class     Images     Labels          P          R     mAP@.5 mAP@.5:.95: 100% 2/2 [00:00<00:00,  6.28it/s]\n",
            "                 all         60         96      0.954      0.874      0.951      0.254\n",
            "\n",
            "     Epoch   gpu_mem       box       obj       cls    labels  img_size\n",
            "     39/49     3.64G   0.03976   0.01777         0        32       640: 100% 4/4 [00:00<00:00,  4.78it/s]\n",
            "               Class     Images     Labels          P          R     mAP@.5 mAP@.5:.95: 100% 2/2 [00:00<00:00,  5.87it/s]\n",
            "                 all         60         96       0.75      0.781      0.805      0.549\n",
            "\n",
            "     Epoch   gpu_mem       box       obj       cls    labels  img_size\n",
            "     40/49     3.64G   0.03939   0.01731         0        46       640: 100% 4/4 [00:00<00:00,  4.73it/s]\n",
            "               Class     Images     Labels          P          R     mAP@.5 mAP@.5:.95: 100% 2/2 [00:00<00:00,  6.13it/s]\n",
            "                 all         60         96      0.959      0.979       0.99      0.555\n",
            "\n",
            "     Epoch   gpu_mem       box       obj       cls    labels  img_size\n",
            "     41/49     3.64G   0.03678   0.01622         0        31       640: 100% 4/4 [00:00<00:00,  4.78it/s]\n",
            "               Class     Images     Labels          P          R     mAP@.5 mAP@.5:.95: 100% 2/2 [00:00<00:00,  5.65it/s]\n",
            "                 all         60         96      0.834      0.948      0.939      0.607\n",
            "\n",
            "     Epoch   gpu_mem       box       obj       cls    labels  img_size\n",
            "     42/49     3.64G   0.03504   0.01648         0        37       640: 100% 4/4 [00:00<00:00,  4.59it/s]\n",
            "               Class     Images     Labels          P          R     mAP@.5 mAP@.5:.95: 100% 2/2 [00:00<00:00,  6.54it/s]\n",
            "                 all         60         96      0.979      0.979      0.992      0.629\n",
            "\n",
            "     Epoch   gpu_mem       box       obj       cls    labels  img_size\n",
            "     43/49     3.64G   0.03303   0.01679         0        37       640: 100% 4/4 [00:00<00:00,  4.92it/s]\n",
            "               Class     Images     Labels          P          R     mAP@.5 mAP@.5:.95: 100% 2/2 [00:00<00:00,  5.76it/s]\n",
            "                 all         60         96      0.926      0.917      0.974       0.66\n",
            "\n",
            "     Epoch   gpu_mem       box       obj       cls    labels  img_size\n",
            "     44/49     3.64G   0.03476   0.01762         0        39       640: 100% 4/4 [00:00<00:00,  4.78it/s]\n",
            "               Class     Images     Labels          P          R     mAP@.5 mAP@.5:.95: 100% 2/2 [00:00<00:00,  6.07it/s]\n",
            "                 all         60         96          1          1      0.995      0.593\n",
            "\n",
            "     Epoch   gpu_mem       box       obj       cls    labels  img_size\n",
            "     45/49     3.64G   0.03299   0.01488         0        33       640: 100% 4/4 [00:00<00:00,  4.60it/s]\n",
            "               Class     Images     Labels          P          R     mAP@.5 mAP@.5:.95: 100% 2/2 [00:00<00:00,  6.44it/s]\n",
            "                 all         60         96      0.989      0.979      0.994      0.708\n",
            "\n",
            "     Epoch   gpu_mem       box       obj       cls    labels  img_size\n",
            "     46/49     3.64G   0.03153   0.01493         0        35       640: 100% 4/4 [00:00<00:00,  4.85it/s]\n",
            "               Class     Images     Labels          P          R     mAP@.5 mAP@.5:.95: 100% 2/2 [00:00<00:00,  6.11it/s]\n",
            "                 all         60         96          1          1      0.995      0.625\n",
            "\n",
            "     Epoch   gpu_mem       box       obj       cls    labels  img_size\n",
            "     47/49     3.64G   0.03004    0.0154         0        41       640: 100% 4/4 [00:00<00:00,  4.55it/s]\n",
            "               Class     Images     Labels          P          R     mAP@.5 mAP@.5:.95: 100% 2/2 [00:00<00:00,  6.58it/s]\n",
            "                 all         60         96          1          1      0.995      0.702\n",
            "\n",
            "     Epoch   gpu_mem       box       obj       cls    labels  img_size\n",
            "     48/49     3.64G   0.02772   0.01661         0        44       640: 100% 4/4 [00:00<00:00,  4.56it/s]\n",
            "               Class     Images     Labels          P          R     mAP@.5 mAP@.5:.95: 100% 2/2 [00:00<00:00,  6.75it/s]\n",
            "                 all         60         96          1          1      0.995      0.691\n",
            "\n",
            "     Epoch   gpu_mem       box       obj       cls    labels  img_size\n",
            "     49/49     3.64G   0.02694   0.01696         0        47       640: 100% 4/4 [00:00<00:00,  4.68it/s]\n",
            "               Class     Images     Labels          P          R     mAP@.5 mAP@.5:.95: 100% 2/2 [00:00<00:00,  6.57it/s]\n",
            "                 all         60         96          1          1      0.995        0.7\n",
            "\n",
            "50 epochs completed in 0.024 hours.\n",
            "Optimizer stripped from runs/train/exp/weights/last.pt, 14.4MB\n",
            "Optimizer stripped from runs/train/exp/weights/best.pt, 14.4MB\n",
            "\n",
            "Validating runs/train/exp/weights/best.pt...\n",
            "Fusing layers... \n",
            "Model Summary: 213 layers, 7012822 parameters, 0 gradients, 15.8 GFLOPs\n",
            "               Class     Images     Labels          P          R     mAP@.5 mAP@.5:.95: 100% 2/2 [00:01<00:00,  1.90it/s]\n",
            "                 all         60         96      0.989      0.979      0.994      0.708\n",
            "Results saved to \u001b[1mruns/train/exp\u001b[0m\n"
          ]
        }
      ],
      "source": [
        "# Train YOLOv5s on COCO128 for 3 epochs\n",
        "!python train.py --img 640 --batch 16 --epochs 50 --data coco128.yaml --weights yolov5s.pt --cache"
      ]
    },
    {
      "cell_type": "code",
      "execution_count": null,
      "metadata": {
        "colab": {
          "base_uri": "https://localhost:8080/"
        },
        "id": "UwNm-p96qnjI",
        "outputId": "b92e0597-384d-49e6-e82f-fdc563ca107f"
      },
      "outputs": [
        {
          "output_type": "stream",
          "name": "stdout",
          "text": [
            "\u001b[34m\u001b[1mdetect: \u001b[0mweights=['/content/yolov5/runs/train/exp/weights/best.pt'], source=/content/img3.png, data=data/coco128.yaml, imgsz=[640, 640], conf_thres=0.25, iou_thres=0.45, max_det=1000, device=, view_img=False, save_txt=False, save_conf=False, save_crop=False, nosave=False, classes=None, agnostic_nms=False, augment=False, visualize=False, update=False, project=runs/detect, name=exp, exist_ok=False, line_thickness=3, hide_labels=False, hide_conf=False, half=False, dnn=False\n",
            "YOLOv5 🚀 v6.1-11-g63ddb6f torch 1.10.0+cu111 CUDA:0 (Tesla T4, 15110MiB)\n",
            "\n",
            "Fusing layers... \n",
            "Model Summary: 213 layers, 7012822 parameters, 0 gradients, 15.8 GFLOPs\n",
            "image 1/1 /content/img3.png: 384x640 1 pest, Done. (0.020s)\n",
            "Speed: 0.5ms pre-process, 20.2ms inference, 1.5ms NMS per image at shape (1, 3, 640, 640)\n",
            "Results saved to \u001b[1mruns/detect/exp4\u001b[0m\n"
          ]
        }
      ],
      "source": [
        "!python detect.py --weights /content/yolov5/runs/train/exp/weights/best.pt --img 640 --conf 0.25 --source /content/img3.png\n",
        "#display.Image(filename='runs/detect/exp/zidane.jpg', width=600)"
      ]
    },
    {
      "cell_type": "code",
      "execution_count": null,
      "metadata": {
        "id": "n_kQTwzA6WKA"
      },
      "outputs": [],
      "source": [
        ""
      ]
    }
  ],
  "metadata": {
    "accelerator": "GPU",
    "colab": {
      "collapsed_sections": [],
      "name": "pestDetectionYolov5.ipynb",
      "provenance": []
    },
    "kernelspec": {
      "display_name": "Python 3",
      "name": "python3"
    },
    "language_info": {
      "name": "python"
    }
  },
  "nbformat": 4,
  "nbformat_minor": 0
}